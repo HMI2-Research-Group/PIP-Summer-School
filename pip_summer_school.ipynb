{
 "cells": [
  {
   "cell_type": "code",
   "execution_count": 4,
   "metadata": {},
   "outputs": [],
   "source": [
    "import pandas as pd"
   ]
  },
  {
   "cell_type": "code",
   "execution_count": 5,
   "metadata": {},
   "outputs": [],
   "source": [
    "# All Utils and functions, write them here\n",
    "def read_tsv(path) -> pd.DataFrame:\n",
    "    my_df = pd.read_csv(path, sep=\"\\t\", skiprows=1)\n",
    "    # Only keep the columns we need\n",
    "    my_df = my_df[[\"Time(s)\", \"ax(g)\", \"ay(g)\", \"az(g)\", \"AngleX(deg)\", \"AngleY(deg)\", \"AngleZ(deg)\"]]\n",
    "    return my_df\n",
    "\n",
    "def save_data_to_csv(df, path):\n",
    "    df.to_csv(path, index=False)"
   ]
  },
  {
   "cell_type": "code",
   "execution_count": 6,
   "metadata": {},
   "outputs": [
    {
     "data": {
      "text/html": [
       "<div>\n",
       "<style scoped>\n",
       "    .dataframe tbody tr th:only-of-type {\n",
       "        vertical-align: middle;\n",
       "    }\n",
       "\n",
       "    .dataframe tbody tr th {\n",
       "        vertical-align: top;\n",
       "    }\n",
       "\n",
       "    .dataframe thead th {\n",
       "        text-align: right;\n",
       "    }\n",
       "</style>\n",
       "<table border=\"1\" class=\"dataframe\">\n",
       "  <thead>\n",
       "    <tr style=\"text-align: right;\">\n",
       "      <th></th>\n",
       "      <th>Time(s)</th>\n",
       "      <th>ax(g)</th>\n",
       "      <th>ay(g)</th>\n",
       "      <th>az(g)</th>\n",
       "      <th>AngleX(deg)</th>\n",
       "      <th>AngleY(deg)</th>\n",
       "      <th>AngleZ(deg)</th>\n",
       "    </tr>\n",
       "  </thead>\n",
       "  <tbody>\n",
       "    <tr>\n",
       "      <th>0</th>\n",
       "      <td>21:02:05.970</td>\n",
       "      <td>-0.1201</td>\n",
       "      <td>-0.0635</td>\n",
       "      <td>0.9985</td>\n",
       "      <td>-3.4607</td>\n",
       "      <td>6.3062</td>\n",
       "      <td>97.2784</td>\n",
       "    </tr>\n",
       "    <tr>\n",
       "      <th>1</th>\n",
       "      <td>21:02:06.072</td>\n",
       "      <td>-0.1123</td>\n",
       "      <td>-0.0591</td>\n",
       "      <td>0.9995</td>\n",
       "      <td>-3.2904</td>\n",
       "      <td>6.3116</td>\n",
       "      <td>97.8223</td>\n",
       "    </tr>\n",
       "    <tr>\n",
       "      <th>2</th>\n",
       "      <td>21:02:06.171</td>\n",
       "      <td>-0.1118</td>\n",
       "      <td>-0.0459</td>\n",
       "      <td>0.9971</td>\n",
       "      <td>-3.1641</td>\n",
       "      <td>6.3446</td>\n",
       "      <td>98.2562</td>\n",
       "    </tr>\n",
       "    <tr>\n",
       "      <th>3</th>\n",
       "      <td>21:02:06.266</td>\n",
       "      <td>-0.0923</td>\n",
       "      <td>-0.0508</td>\n",
       "      <td>0.9956</td>\n",
       "      <td>-3.0597</td>\n",
       "      <td>6.4105</td>\n",
       "      <td>98.6737</td>\n",
       "    </tr>\n",
       "    <tr>\n",
       "      <th>4</th>\n",
       "      <td>21:02:06.360</td>\n",
       "      <td>-0.0908</td>\n",
       "      <td>-0.0479</td>\n",
       "      <td>0.9873</td>\n",
       "      <td>-2.9608</td>\n",
       "      <td>7.0477</td>\n",
       "      <td>99.0308</td>\n",
       "    </tr>\n",
       "  </tbody>\n",
       "</table>\n",
       "</div>"
      ],
      "text/plain": [
       "         Time(s)   ax(g)   ay(g)   az(g)  AngleX(deg)  AngleY(deg)  \\\n",
       "0   21:02:05.970 -0.1201 -0.0635  0.9985      -3.4607       6.3062   \n",
       "1   21:02:06.072 -0.1123 -0.0591  0.9995      -3.2904       6.3116   \n",
       "2   21:02:06.171 -0.1118 -0.0459  0.9971      -3.1641       6.3446   \n",
       "3   21:02:06.266 -0.0923 -0.0508  0.9956      -3.0597       6.4105   \n",
       "4   21:02:06.360 -0.0908 -0.0479  0.9873      -2.9608       7.0477   \n",
       "\n",
       "   AngleZ(deg)  \n",
       "0      97.2784  \n",
       "1      97.8223  \n",
       "2      98.2562  \n",
       "3      98.6737  \n",
       "4      99.0308  "
      ]
     },
     "execution_count": 6,
     "metadata": {},
     "output_type": "execute_result"
    }
   ],
   "source": [
    "my_df = read_tsv(\"sample_data_collection.tsv\")\n",
    "my_df.head()"
   ]
  }
 ],
 "metadata": {
  "kernelspec": {
   "display_name": "pip_summer_school",
   "language": "python",
   "name": "python3"
  },
  "language_info": {
   "codemirror_mode": {
    "name": "ipython",
    "version": 3
   },
   "file_extension": ".py",
   "mimetype": "text/x-python",
   "name": "python",
   "nbconvert_exporter": "python",
   "pygments_lexer": "ipython3",
   "version": "3.8.17"
  },
  "orig_nbformat": 4
 },
 "nbformat": 4,
 "nbformat_minor": 2
}
