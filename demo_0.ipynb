{
 "cells": [
  {
   "cell_type": "code",
   "execution_count": 2,
   "metadata": {},
   "outputs": [],
   "source": [
    "import pandas as pd"
   ]
  },
  {
   "cell_type": "code",
   "execution_count": 3,
   "metadata": {},
   "outputs": [],
   "source": [
    "def get_angle_df(df):\n",
    "    # Only leave columns with headers Time(s), AngleX(deg), AngleY(deg), AngleZ(deg)\n",
    "    df = df[[\"Time(s)\", \"AngleX(deg)\", \"AngleY(deg)\", \"AngleZ(deg)\"]]\n",
    "    return df"
   ]
  },
  {
   "cell_type": "code",
   "execution_count": 4,
   "metadata": {},
   "outputs": [
    {
     "data": {
      "text/html": [
       "<div>\n",
       "<style scoped>\n",
       "    .dataframe tbody tr th:only-of-type {\n",
       "        vertical-align: middle;\n",
       "    }\n",
       "\n",
       "    .dataframe tbody tr th {\n",
       "        vertical-align: top;\n",
       "    }\n",
       "\n",
       "    .dataframe thead th {\n",
       "        text-align: right;\n",
       "    }\n",
       "</style>\n",
       "<table border=\"1\" class=\"dataframe\">\n",
       "  <thead>\n",
       "    <tr style=\"text-align: right;\">\n",
       "      <th></th>\n",
       "      <th>Time(s)</th>\n",
       "      <th>AngleX(deg)</th>\n",
       "      <th>AngleY(deg)</th>\n",
       "      <th>AngleZ(deg)</th>\n",
       "    </tr>\n",
       "  </thead>\n",
       "  <tbody>\n",
       "    <tr>\n",
       "      <th>0</th>\n",
       "      <td>21:02:05.970</td>\n",
       "      <td>-3.4607</td>\n",
       "      <td>6.3062</td>\n",
       "      <td>97.2784</td>\n",
       "    </tr>\n",
       "    <tr>\n",
       "      <th>1</th>\n",
       "      <td>21:02:06.072</td>\n",
       "      <td>-3.2904</td>\n",
       "      <td>6.3116</td>\n",
       "      <td>97.8223</td>\n",
       "    </tr>\n",
       "    <tr>\n",
       "      <th>2</th>\n",
       "      <td>21:02:06.171</td>\n",
       "      <td>-3.1641</td>\n",
       "      <td>6.3446</td>\n",
       "      <td>98.2562</td>\n",
       "    </tr>\n",
       "    <tr>\n",
       "      <th>3</th>\n",
       "      <td>21:02:06.266</td>\n",
       "      <td>-3.0597</td>\n",
       "      <td>6.4105</td>\n",
       "      <td>98.6737</td>\n",
       "    </tr>\n",
       "    <tr>\n",
       "      <th>4</th>\n",
       "      <td>21:02:06.360</td>\n",
       "      <td>-2.9608</td>\n",
       "      <td>7.0477</td>\n",
       "      <td>99.0308</td>\n",
       "    </tr>\n",
       "  </tbody>\n",
       "</table>\n",
       "</div>"
      ],
      "text/plain": [
       "         Time(s)  AngleX(deg)  AngleY(deg)  AngleZ(deg)\n",
       "0   21:02:05.970      -3.4607       6.3062      97.2784\n",
       "1   21:02:06.072      -3.2904       6.3116      97.8223\n",
       "2   21:02:06.171      -3.1641       6.3446      98.2562\n",
       "3   21:02:06.266      -3.0597       6.4105      98.6737\n",
       "4   21:02:06.360      -2.9608       7.0477      99.0308"
      ]
     },
     "execution_count": 4,
     "metadata": {},
     "output_type": "execute_result"
    }
   ],
   "source": [
    "df = get_angle_df(pd.read_csv(\"sample_data_collection.txt\", sep=\"\\t\", skiprows=1))\n",
    "df.head()"
   ]
  },
  {
   "cell_type": "code",
   "execution_count": 6,
   "metadata": {},
   "outputs": [],
   "source": [
    "df.to_csv(\"sample_data_collection.csv\", index=False, header=False)"
   ]
  }
 ],
 "metadata": {
  "kernelspec": {
   "display_name": "pip_summer_school",
   "language": "python",
   "name": "python3"
  },
  "language_info": {
   "codemirror_mode": {
    "name": "ipython",
    "version": 3
   },
   "file_extension": ".py",
   "mimetype": "text/x-python",
   "name": "python",
   "nbconvert_exporter": "python",
   "pygments_lexer": "ipython3",
   "version": "3.8.17"
  },
  "orig_nbformat": 4
 },
 "nbformat": 4,
 "nbformat_minor": 2
}
