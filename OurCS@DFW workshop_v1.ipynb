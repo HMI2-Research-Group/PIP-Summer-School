{
 "cells": [
  {
   "cell_type": "code",
   "execution_count": 1,
   "metadata": {},
   "outputs": [
    {
     "name": "stderr",
     "output_type": "stream",
     "text": [
      "Using `tqdm.autonotebook.tqdm` in notebook mode. Use `tqdm.tqdm` instead to force console mode (e.g. in jupyter console)\n"
     ]
    }
   ],
   "source": [
    "from numpy import genfromtxt\n",
    "import numpy as np\n",
    "import pandas as pd\n",
    "import sklearn\n",
    "import sklearn.datasets as ds\n",
    "import sklearn.model_selection as ms\n",
    "import sklearn.svm as svm\n",
    "from sklearn.model_selection import train_test_split\n",
    "from sklearn import metrics\n",
    "from sklearn.metrics import confusion_matrix\n",
    "import matplotlib.pyplot as plt\n",
    "from sklearn.model_selection import KFold \n",
    "from sklearn.model_selection import cross_val_score\n",
    "import shap"
   ]
  },
  {
   "cell_type": "code",
   "execution_count": 2,
   "metadata": {},
   "outputs": [],
   "source": [
    "gesture = ['Down', 'Up', 'Left', 'Right']\n",
    "path = 'HeadData/'\n",
    "gyro = '/gyro/'\n",
    "features = 6\n",
    "trials = 40\n",
    "x = [[0] * features for i in range(trials*len(gesture))]\n",
    "y = [0] * trials*len(gesture) "
   ]
  },
  {
   "cell_type": "code",
   "execution_count": 3,
   "metadata": {},
   "outputs": [],
   "source": [
    "def min_max_feature_order(s1,s2):\n",
    "    if (s1>s2): \n",
    "        return 1\n",
    "    else:\n",
    "        return 5"
   ]
  },
  {
   "cell_type": "code",
   "execution_count": 4,
   "metadata": {},
   "outputs": [],
   "source": [
    "for i in range(0,len(gesture),1):\n",
    "    for k in range(0,trials,1):\n",
    "        path_data = path+ gesture[i]+ gyro +'trial'+str(k+1)+'.csv'\n",
    "        data = genfromtxt(path_data, delimiter=',')\n",
    "        #Features\n",
    "        x[k+i*trials][0]=min_max_feature_order(np.argmax(data[:,1]), np.argmin(data[:,1]))\n",
    "        x[k+i*trials][1]=min_max_feature_order(np.argmax(data[:,3]), np.argmin(data[:,3]))\n",
    "        x[k+i*trials][2]=min_max_feature_order(np.argmax(data[:,2]), np.argmin(data[:,2]))\n",
    "        x[k+i*trials][3]=min(data[:,1]) # down up gestures the x dimension changes the most\n",
    "        x[k+i*trials][4]=min(data[:,3]) # right left gestures the z dimension changes the most\n",
    "        x[k+i*trials][5]=min(data[:,2]) \n",
    "       # x[k+i*trials][4]=max(data[:,1]) # down up gestures the x dimension changes the most\n",
    "       # x[k+i*trials][5]=max(data[:,3]) # right left gestures the z dimension changes the most\n",
    "        # x[k+i*trials][6]=data[:,1].mean() # mean for x dimension\n",
    "        # x[k+i*trials][7]=data[:,3].mean() # mean for z dimension\n",
    "        # x[k+i*trials][8]=data[:,1].std() # std for x dimension\n",
    "        # x[k+i*trials][9]=data[:,3].std() # std for z dimension\n",
    "        #target variables\n",
    "        y[[k+i*trials][0]]=i"
   ]
  },
  {
   "cell_type": "code",
   "execution_count": 5,
   "metadata": {},
   "outputs": [],
   "source": [
    "# Split dataset into training set and test set \n",
    "# 75% training and 25% test\n",
    "X_train, X_test, y_train, y_test = train_test_split(x , y, test_size=0.25, random_state=0) "
   ]
  },
  {
   "cell_type": "code",
   "execution_count": 6,
   "metadata": {},
   "outputs": [],
   "source": [
    "#Create a svm Classifier\n",
    "clf = svm.SVC(kernel='linear') # Linear Kernel\n",
    "\n",
    "#Train the model using the training sets\n",
    "clf.fit(X_train, y_train)\n",
    "\n",
    "#Predict the response for test dataset\n",
    "y_pred = clf.predict(X_test)        "
   ]
  },
  {
   "cell_type": "code",
   "execution_count": 7,
   "metadata": {},
   "outputs": [
    {
     "name": "stdout",
     "output_type": "stream",
     "text": [
      "Accuracy: 1.0\n",
      "Precision: 1.0\n",
      "Recall: 1.0\n",
      "Confusion Matrix:\n",
      "[[ 8  0  0  0]\n",
      " [ 0 11  0  0]\n",
      " [ 0  0 11  0]\n",
      " [ 0  0  0 10]]\n"
     ]
    }
   ],
   "source": [
    "# Model Accuracy: how often is the classifier correct?\n",
    "print(\"Accuracy:\",metrics.accuracy_score(y_test, y_pred))\n",
    "\n",
    "# Model Precision: what percentage of positive tuples are labeled as such?\n",
    "print(\"Precision:\",metrics.precision_score(y_test, y_pred,  average='micro'))\n",
    "\n",
    "# Model Recall: what percentage of positive tuples are labelled as such?\n",
    "print(\"Recall:\",metrics.recall_score(y_test, y_pred,  average='micro'))\n",
    "\n",
    "# Model Confusion Matrix:\n",
    "print(\"Confusion Matrix:\")\n",
    "print(confusion_matrix(y_test, y_pred))"
   ]
  },
  {
   "cell_type": "code",
   "execution_count": 9,
   "metadata": {},
   "outputs": [
    {
     "data": {
      "image/png": "[encoded data removed]",
      "text/plain": [
       "<Figure size 800x390 with 1 Axes>"
      ]
     },
     "metadata": {},
     "output_type": "display_data"
    }
   ],
   "source": [
    "explainer = shap.Explainer(clf, np.array(X_train))\n",
    "shap_values = explainer.shap_values(np.array(X_test))\n",
    "# Plot bar plot\n",
    "feature_names = ['X minmaxoccurance', 'Z minmaxoccurance', 'Y minmaxoccurance', 'X min', 'Z min', 'Y min']\n",
    "target_names = ['Down', 'Up', 'Left', 'Right']\n",
    "shap.summary_plot(shap_values[1], X_test, plot_type=\"bar\", feature_names=feature_names, class_names=target_names)\n"
   ]
  },
  {
   "cell_type": "code",
   "execution_count": null,
   "metadata": {},
   "outputs": [],
   "source": [
    "perfect_acc = 1.0\n",
    "for my_random_state in range(0,1000000,1):    \n",
    "    X_train, X_test, y_train, y_test = train_test_split(x , y, test_size=0.25, random_state=my_random_state) \n",
    "    #Create a svm Classifier\n",
    "    clf = svm.SVC(kernel='linear') # Linear Kernel\n",
    "\n",
    "    #Train the model using the training sets\n",
    "    clf.fit(X_train, y_train)\n",
    "\n",
    "    #Predict the response for test dataset\n",
    "    y_pred = clf.predict(X_test)      \n",
    "\n",
    "    # Model Accuracy: how often is the classifier correct?\n",
    "    acc = metrics.accuracy_score(y_test, y_pred)\n",
    "    if acc < perfect_acc:\n",
    "        perfect_acc = acc\n",
    "        if acc != 1.0:\n",
    "            print(\"Random state:\", my_random_state)\n",
    "            print(\"Accuracy:\",metrics.accuracy_score(y_test, y_pred))\n",
    "            print(\"Precision:\",metrics.precision_score(y_test, y_pred,  average='micro'))\n",
    "            print(\"Recall:\",metrics.recall_score(y_test, y_pred,  average='micro'))\n",
    "            print(\"Confusion Matrix:\")\n",
    "            print(confusion_matrix(y_test, y_pred))\n",
    "            \n",
    "\n",
    "   "
   ]
  },
  {
   "cell_type": "code",
   "execution_count": null,
   "metadata": {},
   "outputs": [],
   "source": [
    "from sklearn import metrics\n",
    "\n",
    "X_train, X_test, y_train, y_test = train_test_split(x , y, test_size=0.25, random_state=321) \n",
    "#Create a svm Classifier\n",
    "clf = svm.SVC(kernel='linear') # Linear Kernel\n",
    "\n",
    "#Train the model using the training sets\n",
    "clf.fit(X_train, y_train)\n",
    "\n",
    "#Predict the response for test dataset\n",
    "y_pred = clf.predict(X_test)   \n",
    "confuse = confusion_matrix(y_test, y_pred)\n",
    "cm_display = metrics.ConfusionMatrixDisplay(confusion_matrix = confuse, display_labels = gesture)\n",
    "cm_display.plot()\n",
    "plt.show()"
   ]
  },
  {
   "cell_type": "code",
   "execution_count": null,
   "metadata": {},
   "outputs": [],
   "source": [
    "X_train, X_test, y_train, y_test = train_test_split(x , y, test_size=0.25, random_state=321) \n",
    "accuracies = cross_val_score(estimator = clf, X = X_train, y = y_train, cv = 4)\n",
    "for i in range (0,4,1):\n",
    "    print (accuracies[i])\n",
    "\n",
    "print ('mean k-Fold cross-validation : ' , accuracies.mean())"
   ]
  },
  {
   "cell_type": "code",
   "execution_count": null,
   "metadata": {},
   "outputs": [],
   "source": [
    "# Convert x into numpy array\n",
    "x = np.array(x)\n",
    "# Convert y into numpy array\n",
    "y = np.array(y)\n",
    "# Normalizee the data along the columns\n",
    "x = sklearn.preprocessing.normalize(x, axis=0, norm='max')\n",
    "# Plot the tsne of the data\n",
    "from sklearn.manifold import TSNE\n",
    "X_embedded = TSNE(n_components=2).fit_transform(x)\n",
    "plt.scatter(X_embedded[y == 0,0],X_embedded[y == 0,1], label = 'Down')\n",
    "plt.scatter(X_embedded[y == 1,0],X_embedded[y == 1,1], label = 'Up')\n",
    "plt.scatter(X_embedded[y == 2,0],X_embedded[y == 2,1], label = 'Left')\n",
    "plt.scatter(X_embedded[y == 3,0],X_embedded[y == 3,1], label = 'Right')\n",
    "# add legends to the plot based on correspondinf y values for each x\n",
    "# numpy get data only from indexes where y is 0\n",
    "plt.legend()\n",
    "plt.show()"
   ]
  }
 ],
 "metadata": {
  "kernelspec": {
   "display_name": "Python 3",
   "language": "python",
   "name": "python3"
  },
  "language_info": {
   "codemirror_mode": {
    "name": "ipython",
    "version": 3
   },
   "file_extension": ".py",
   "mimetype": "text/x-python",
   "name": "python",
   "nbconvert_exporter": "python",
   "pygments_lexer": "ipython3",
   "version": "3.8.17"
  }
 },
 "nbformat": 4,
 "nbformat_minor": 2
}
